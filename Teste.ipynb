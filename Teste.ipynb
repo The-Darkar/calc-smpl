{
 "cells": [
  {
   "cell_type": "markdown",
   "id": "8291c07d",
   "metadata": {},
   "source": [
    "## Crie uma calculadora simples"
   ]
  },
  {
   "cell_type": "markdown",
   "id": "4501f4dd",
   "metadata": {},
   "source": [
    "Início\n",
    "    \n",
    "    exibir mensagem 'Bem vindo a calculadora'.\n",
    "    pedir para inserir o 1o número\n",
    "    armazenar o número\n",
    "    pedir para inserir operador (+, -, *, /)\n",
    "    armazenar operador\n",
    "    pedir para inserir 2o número\n",
    "    armazenar o número\n",
    "    calcular o número\n",
    "    armazenar resultado\n",
    "    exibir resultado na tela\n",
    "    \n",
    "Fim"
   ]
  },
  {
   "cell_type": "markdown",
   "id": "45ebafa3",
   "metadata": {},
   "source": [
    "# "
   ]
  },
  {
   "cell_type": "code",
   "execution_count": 1,
   "id": "009c346d",
   "metadata": {},
   "outputs": [
    {
     "name": "stdout",
     "output_type": "stream",
     "text": [
      "Bem vindo a Calculadora\n"
     ]
    }
   ],
   "source": [
    "# Exibir mensagem de boas vindas\n",
    "print('Bem vindo a Calculadora')"
   ]
  },
  {
   "cell_type": "code",
   "execution_count": 2,
   "id": "b10f8413",
   "metadata": {},
   "outputs": [
    {
     "name": "stdout",
     "output_type": "stream",
     "text": [
      "Insira o número. 300\n"
     ]
    }
   ],
   "source": [
    "# Inserir num com casa decimal\n",
    "num = float(input('Insira o número. '))"
   ]
  },
  {
   "cell_type": "code",
   "execution_count": 3,
   "id": "9146fcbd",
   "metadata": {},
   "outputs": [
    {
     "name": "stdout",
     "output_type": "stream",
     "text": [
      "Insira o operador. (+, -, *, /). -\n"
     ]
    }
   ],
   "source": [
    "# Operador\n",
    "op = input('Insira o operador. (+, -, *, /). ')"
   ]
  },
  {
   "cell_type": "code",
   "execution_count": 7,
   "id": "ca8d7719",
   "metadata": {},
   "outputs": [
    {
     "name": "stdout",
     "output_type": "stream",
     "text": [
      "Insira o número. 93\n"
     ]
    }
   ],
   "source": [
    "# inserir número\n",
    "num2 = float(input('Insira o número. '))"
   ]
  },
  {
   "cell_type": "code",
   "execution_count": 9,
   "id": "484c7f8c",
   "metadata": {},
   "outputs": [
    {
     "name": "stdout",
     "output_type": "stream",
     "text": [
      "O resultado é: 207.0\n"
     ]
    }
   ],
   "source": [
    "# Cálculo\n",
    "if op == '+':\n",
    "    resultado = num + num2\n",
    "    print('O resultado é:', + resultado)\n",
    "\n",
    "elif op == '-':\n",
    "    resultado = num - num2\n",
    "    print('O resultado é:', + resultado)\n",
    "    \n",
    "elif op == '*':\n",
    "    resultado = num * num2\n",
    "    print('O resultado é:', + resultado)\n",
    "    \n",
    "elif op == '/':\n",
    "    resultado = num / num2\n",
    "    print('O resultado é:', + resultado)\n",
    "    \n",
    "else:\n",
    "    print('resultado inválido')"
   ]
  },
  {
   "cell_type": "markdown",
   "id": "131f103d",
   "metadata": {},
   "source": [
    "# "
   ]
  },
  {
   "cell_type": "markdown",
   "id": "faedd905",
   "metadata": {},
   "source": [
    "###  Refazendo a mesma calculadora com list comprehension"
   ]
  },
  {
   "cell_type": "markdown",
   "id": "8878f2ae",
   "metadata": {},
   "source": [
    "# "
   ]
  },
  {
   "cell_type": "code",
   "execution_count": 1,
   "id": "1839b977",
   "metadata": {},
   "outputs": [
    {
     "name": "stdout",
     "output_type": "stream",
     "text": [
      "Insira o primeiro numero: 110\n",
      "Selecione a operação. (+, -, *, /): /\n",
      "Insira o segundo número: 22\n",
      "Resultado:  5.0\n"
     ]
    }
   ],
   "source": [
    "\n",
    "# operações\n",
    "ops = ['+', '-', '*', '/']\n",
    "\n",
    "# primeiro número\n",
    "num = float(input('Insira o primeiro numero: '))\n",
    "\n",
    "# selecione a operação\n",
    "op = input(\"Selecione a operação. (+, -, *, /): \")\n",
    "\n",
    "# mensagem para operação invalida\n",
    "if op not in ops:\n",
    "    print('Operação inválida.')\n",
    "    \n",
    "# se válida, solicite segundo número\n",
    "else:\n",
    "   num2 = float(input('Insira o segundo número: '))\n",
    "    \n",
    "# calculando em list comprehension\n",
    "resultado = [num + num2 if op == '+' else\n",
    "            num - num2 if op == '-' else\n",
    "            num * num2 if op == '*' else\n",
    "            num / num2][0]\n",
    "\n",
    "# exibindo resultado na tela\n",
    "print('Resultado: ', + resultado)\n"
   ]
  },
  {
   "cell_type": "code",
   "execution_count": null,
   "id": "f432a834",
   "metadata": {},
   "outputs": [],
   "source": []
  }
 ],
 "metadata": {
  "kernelspec": {
   "display_name": "Python 3 (ipykernel)",
   "language": "python",
   "name": "python3"
  },
  "language_info": {
   "codemirror_mode": {
    "name": "ipython",
    "version": 3
   },
   "file_extension": ".py",
   "mimetype": "text/x-python",
   "name": "python",
   "nbconvert_exporter": "python",
   "pygments_lexer": "ipython3",
   "version": "3.10.9"
  }
 },
 "nbformat": 4,
 "nbformat_minor": 5
}
